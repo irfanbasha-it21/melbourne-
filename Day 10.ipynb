{
 "cells": [
  {
   "cell_type": "code",
   "execution_count": 99,
   "id": "ad4f97a9",
   "metadata": {},
   "outputs": [
    {
     "name": "stdout",
     "output_type": "stream",
     "text": [
      "           Suburb             Address  Rooms Type      Price Method  \\\n",
      "0      Abbotsford       68 Studley St      2    h        NaN     SS   \n",
      "1      Abbotsford        85 Turner St      2    h  1480000.0      S   \n",
      "2      Abbotsford     25 Bloomburg St      2    h  1035000.0      S   \n",
      "3      Abbotsford  18/659 Victoria St      3    u        NaN     VB   \n",
      "4      Abbotsford        5 Charles St      3    h  1465000.0     SP   \n",
      "...           ...                 ...    ...  ...        ...    ...   \n",
      "34852  Yarraville         13 Burns St      4    h  1480000.0     PI   \n",
      "34853  Yarraville       29A Murray St      2    h   888000.0     SP   \n",
      "34854  Yarraville      147A Severn St      2    t   705000.0      S   \n",
      "34855  Yarraville    12/37 Stephen St      3    h  1140000.0     SP   \n",
      "34856  Yarraville    3 Tarrengower St      2    h  1020000.0     PI   \n",
      "\n",
      "             SellerG        Date  Distance  Postcode  ...  Bathroom  Car  \\\n",
      "0             Jellis   3/09/2016       2.5    3067.0  ...       1.0  1.0   \n",
      "1             Biggin   3/12/2016       2.5    3067.0  ...       1.0  1.0   \n",
      "2             Biggin   4/02/2016       2.5    3067.0  ...       1.0  0.0   \n",
      "3             Rounds   4/02/2016       2.5    3067.0  ...       2.0  1.0   \n",
      "4             Biggin   4/03/2017       2.5    3067.0  ...       2.0  0.0   \n",
      "...              ...         ...       ...       ...  ...       ...  ...   \n",
      "34852            Jas  24/02/2018       6.3    3013.0  ...       1.0  3.0   \n",
      "34853        Sweeney  24/02/2018       6.3    3013.0  ...       2.0  1.0   \n",
      "34854            Jas  24/02/2018       6.3    3013.0  ...       1.0  2.0   \n",
      "34855  hockingstuart  24/02/2018       6.3    3013.0  ...       NaN  NaN   \n",
      "34856             RW  24/02/2018       6.3    3013.0  ...       1.0  0.0   \n",
      "\n",
      "       Landsize  BuildingArea  YearBuilt               CouncilArea Lattitude  \\\n",
      "0         126.0           NaN        NaN        Yarra City Council -37.80140   \n",
      "1         202.0           NaN        NaN        Yarra City Council -37.79960   \n",
      "2         156.0          79.0     1900.0        Yarra City Council -37.80790   \n",
      "3           0.0           NaN        NaN        Yarra City Council -37.81140   \n",
      "4         134.0         150.0     1900.0        Yarra City Council -37.80930   \n",
      "...         ...           ...        ...                       ...       ...   \n",
      "34852     593.0           NaN        NaN  Maribyrnong City Council -37.81053   \n",
      "34853      98.0         104.0     2018.0  Maribyrnong City Council -37.81551   \n",
      "34854     220.0         120.0     2000.0  Maribyrnong City Council -37.82286   \n",
      "34855       NaN           NaN        NaN  Maribyrnong City Council       NaN   \n",
      "34856     250.0         103.0     1930.0  Maribyrnong City Council -37.81810   \n",
      "\n",
      "       Longtitude             Regionname Propertycount  \n",
      "0       144.99580  Northern Metropolitan        4019.0  \n",
      "1       144.99840  Northern Metropolitan        4019.0  \n",
      "2       144.99340  Northern Metropolitan        4019.0  \n",
      "3       145.01160  Northern Metropolitan        4019.0  \n",
      "4       144.99440  Northern Metropolitan        4019.0  \n",
      "...           ...                    ...           ...  \n",
      "34852   144.88467   Western Metropolitan        6543.0  \n",
      "34853   144.88826   Western Metropolitan        6543.0  \n",
      "34854   144.87856   Western Metropolitan        6543.0  \n",
      "34855         NaN   Western Metropolitan        6543.0  \n",
      "34856   144.89351   Western Metropolitan        6543.0  \n",
      "\n",
      "[34857 rows x 21 columns]\n"
     ]
    }
   ],
   "source": [
    "import pandas as pd\n",
    "from sklearn.preprocessing import LabelEncoder\n",
    "from sklearn.model_selection import train_test_split\n",
    "from sklearn.linear_model import LinearRegression,Lasso,Ridge\n",
    "import warnings\n",
    "warnings.filterwarnings('ignore')\n",
    "df = pd.read_csv('melbourne.csv')\n",
    "print(df)"
   ]
  },
  {
   "cell_type": "code",
   "execution_count": 100,
   "id": "c5b92a1b",
   "metadata": {},
   "outputs": [
    {
     "name": "stdout",
     "output_type": "stream",
     "text": [
      "           Suburb  Rooms Type      Price Method        SellerG  Distance  \\\n",
      "0      Abbotsford      2    h        NaN     SS         Jellis       2.5   \n",
      "1      Abbotsford      2    h  1480000.0      S         Biggin       2.5   \n",
      "2      Abbotsford      2    h  1035000.0      S         Biggin       2.5   \n",
      "3      Abbotsford      3    u        NaN     VB         Rounds       2.5   \n",
      "4      Abbotsford      3    h  1465000.0     SP         Biggin       2.5   \n",
      "...           ...    ...  ...        ...    ...            ...       ...   \n",
      "34852  Yarraville      4    h  1480000.0     PI            Jas       6.3   \n",
      "34853  Yarraville      2    h   888000.0     SP        Sweeney       6.3   \n",
      "34854  Yarraville      2    t   705000.0      S            Jas       6.3   \n",
      "34855  Yarraville      3    h  1140000.0     SP  hockingstuart       6.3   \n",
      "34856  Yarraville      2    h  1020000.0     PI             RW       6.3   \n",
      "\n",
      "       Bedroom2  Bathroom  Car  Landsize  BuildingArea  \\\n",
      "0           2.0       1.0  1.0     126.0           NaN   \n",
      "1           2.0       1.0  1.0     202.0           NaN   \n",
      "2           2.0       1.0  0.0     156.0          79.0   \n",
      "3           3.0       2.0  1.0       0.0           NaN   \n",
      "4           3.0       2.0  0.0     134.0         150.0   \n",
      "...         ...       ...  ...       ...           ...   \n",
      "34852       4.0       1.0  3.0     593.0           NaN   \n",
      "34853       2.0       2.0  1.0      98.0         104.0   \n",
      "34854       2.0       1.0  2.0     220.0         120.0   \n",
      "34855       NaN       NaN  NaN       NaN           NaN   \n",
      "34856       2.0       1.0  0.0     250.0         103.0   \n",
      "\n",
      "                    CouncilArea             Regionname  Propertycount  \n",
      "0            Yarra City Council  Northern Metropolitan         4019.0  \n",
      "1            Yarra City Council  Northern Metropolitan         4019.0  \n",
      "2            Yarra City Council  Northern Metropolitan         4019.0  \n",
      "3            Yarra City Council  Northern Metropolitan         4019.0  \n",
      "4            Yarra City Council  Northern Metropolitan         4019.0  \n",
      "...                         ...                    ...            ...  \n",
      "34852  Maribyrnong City Council   Western Metropolitan         6543.0  \n",
      "34853  Maribyrnong City Council   Western Metropolitan         6543.0  \n",
      "34854  Maribyrnong City Council   Western Metropolitan         6543.0  \n",
      "34855  Maribyrnong City Council   Western Metropolitan         6543.0  \n",
      "34856  Maribyrnong City Council   Western Metropolitan         6543.0  \n",
      "\n",
      "[34857 rows x 15 columns]\n"
     ]
    }
   ],
   "source": [
    "df.drop(columns=['Address','Date','Postcode','YearBuilt','Lattitude','Longtitude'],inplace=True)\n",
    "print(df)"
   ]
  },
  {
   "cell_type": "code",
   "execution_count": 101,
   "id": "35bf2355",
   "metadata": {},
   "outputs": [
    {
     "data": {
      "text/plain": [
       "Suburb               0\n",
       "Rooms                0\n",
       "Type                 0\n",
       "Price             7610\n",
       "Method               0\n",
       "SellerG              0\n",
       "Distance             1\n",
       "Bedroom2          8217\n",
       "Bathroom          8226\n",
       "Car               8728\n",
       "Landsize         11810\n",
       "BuildingArea     21115\n",
       "CouncilArea          3\n",
       "Regionname           3\n",
       "Propertycount        3\n",
       "dtype: int64"
      ]
     },
     "execution_count": 101,
     "metadata": {},
     "output_type": "execute_result"
    }
   ],
   "source": [
    "df.isna().sum()"
   ]
  },
  {
   "cell_type": "code",
   "execution_count": 102,
   "id": "05f82363",
   "metadata": {},
   "outputs": [
    {
     "data": {
      "text/plain": [
       "65716"
      ]
     },
     "execution_count": 102,
     "metadata": {},
     "output_type": "execute_result"
    }
   ],
   "source": [
    "df.isna().sum().sum()"
   ]
  },
  {
   "cell_type": "code",
   "execution_count": 103,
   "id": "84d85cdc",
   "metadata": {},
   "outputs": [],
   "source": [
    "df.dropna(inplace=True)"
   ]
  },
  {
   "cell_type": "code",
   "execution_count": 104,
   "id": "e653dbfd",
   "metadata": {},
   "outputs": [
    {
     "name": "stdout",
     "output_type": "stream",
     "text": [
      "           Suburb  Rooms Type      Price Method  SellerG  Distance  Bedroom2  \\\n",
      "2      Abbotsford      2    h  1035000.0      S   Biggin       2.5       2.0   \n",
      "4      Abbotsford      3    h  1465000.0     SP   Biggin       2.5       3.0   \n",
      "6      Abbotsford      4    h  1600000.0     VB   Nelson       2.5       3.0   \n",
      "11     Abbotsford      3    h  1876000.0      S   Nelson       2.5       4.0   \n",
      "14     Abbotsford      2    h  1636000.0      S   Nelson       2.5       2.0   \n",
      "...           ...    ...  ...        ...    ...      ...       ...       ...   \n",
      "34847     Wollert      3    h   500000.0     PI      Ray      25.5       3.0   \n",
      "34849     Wollert      3    h   570000.0     SP       RW      25.5       3.0   \n",
      "34853  Yarraville      2    h   888000.0     SP  Sweeney       6.3       2.0   \n",
      "34854  Yarraville      2    t   705000.0      S      Jas       6.3       2.0   \n",
      "34856  Yarraville      2    h  1020000.0     PI       RW       6.3       2.0   \n",
      "\n",
      "       Bathroom  Car  Landsize  BuildingArea               CouncilArea  \\\n",
      "2           1.0  0.0     156.0          79.0        Yarra City Council   \n",
      "4           2.0  0.0     134.0         150.0        Yarra City Council   \n",
      "6           1.0  2.0     120.0         142.0        Yarra City Council   \n",
      "11          2.0  0.0     245.0         210.0        Yarra City Council   \n",
      "14          1.0  2.0     256.0         107.0        Yarra City Council   \n",
      "...         ...  ...       ...           ...                       ...   \n",
      "34847       2.0  2.0     383.0         118.0   Whittlesea City Council   \n",
      "34849       2.0  2.0     404.0         158.0   Whittlesea City Council   \n",
      "34853       2.0  1.0      98.0         104.0  Maribyrnong City Council   \n",
      "34854       1.0  2.0     220.0         120.0  Maribyrnong City Council   \n",
      "34856       1.0  0.0     250.0         103.0  Maribyrnong City Council   \n",
      "\n",
      "                  Regionname  Propertycount  \n",
      "2      Northern Metropolitan         4019.0  \n",
      "4      Northern Metropolitan         4019.0  \n",
      "6      Northern Metropolitan         4019.0  \n",
      "11     Northern Metropolitan         4019.0  \n",
      "14     Northern Metropolitan         4019.0  \n",
      "...                      ...            ...  \n",
      "34847  Northern Metropolitan         2940.0  \n",
      "34849  Northern Metropolitan         2940.0  \n",
      "34853   Western Metropolitan         6543.0  \n",
      "34854   Western Metropolitan         6543.0  \n",
      "34856   Western Metropolitan         6543.0  \n",
      "\n",
      "[9244 rows x 15 columns]\n"
     ]
    }
   ],
   "source": [
    "print(df)"
   ]
  },
  {
   "cell_type": "code",
   "execution_count": 105,
   "id": "2623bc87",
   "metadata": {},
   "outputs": [
    {
     "name": "stdout",
     "output_type": "stream",
     "text": [
      "<class 'pandas.core.frame.DataFrame'>\n",
      "Int64Index: 9244 entries, 2 to 34856\n",
      "Data columns (total 15 columns):\n",
      " #   Column         Non-Null Count  Dtype  \n",
      "---  ------         --------------  -----  \n",
      " 0   Suburb         9244 non-null   object \n",
      " 1   Rooms          9244 non-null   int64  \n",
      " 2   Type           9244 non-null   object \n",
      " 3   Price          9244 non-null   float64\n",
      " 4   Method         9244 non-null   object \n",
      " 5   SellerG        9244 non-null   object \n",
      " 6   Distance       9244 non-null   float64\n",
      " 7   Bedroom2       9244 non-null   float64\n",
      " 8   Bathroom       9244 non-null   float64\n",
      " 9   Car            9244 non-null   float64\n",
      " 10  Landsize       9244 non-null   float64\n",
      " 11  BuildingArea   9244 non-null   float64\n",
      " 12  CouncilArea    9244 non-null   object \n",
      " 13  Regionname     9244 non-null   object \n",
      " 14  Propertycount  9244 non-null   float64\n",
      "dtypes: float64(8), int64(1), object(6)\n",
      "memory usage: 1.1+ MB\n"
     ]
    }
   ],
   "source": [
    "df.info()"
   ]
  },
  {
   "cell_type": "code",
   "execution_count": 106,
   "id": "68c3025c",
   "metadata": {
    "scrolled": true
   },
   "outputs": [
    {
     "data": {
      "text/html": [
       "<div>\n",
       "<style scoped>\n",
       "    .dataframe tbody tr th:only-of-type {\n",
       "        vertical-align: middle;\n",
       "    }\n",
       "\n",
       "    .dataframe tbody tr th {\n",
       "        vertical-align: top;\n",
       "    }\n",
       "\n",
       "    .dataframe thead th {\n",
       "        text-align: right;\n",
       "    }\n",
       "</style>\n",
       "<table border=\"1\" class=\"dataframe\">\n",
       "  <thead>\n",
       "    <tr style=\"text-align: right;\">\n",
       "      <th></th>\n",
       "      <th>Rooms</th>\n",
       "      <th>Price</th>\n",
       "      <th>Distance</th>\n",
       "      <th>Bedroom2</th>\n",
       "      <th>Bathroom</th>\n",
       "      <th>Car</th>\n",
       "      <th>Landsize</th>\n",
       "      <th>BuildingArea</th>\n",
       "      <th>Propertycount</th>\n",
       "    </tr>\n",
       "  </thead>\n",
       "  <tbody>\n",
       "    <tr>\n",
       "      <th>count</th>\n",
       "      <td>9244.000000</td>\n",
       "      <td>9.244000e+03</td>\n",
       "      <td>9244.000000</td>\n",
       "      <td>9244.000000</td>\n",
       "      <td>9244.000000</td>\n",
       "      <td>9244.000000</td>\n",
       "      <td>9244.000000</td>\n",
       "      <td>9244.000000</td>\n",
       "      <td>9244.000000</td>\n",
       "    </tr>\n",
       "    <tr>\n",
       "      <th>mean</th>\n",
       "      <td>3.098118</td>\n",
       "      <td>1.092329e+06</td>\n",
       "      <td>11.241151</td>\n",
       "      <td>3.077347</td>\n",
       "      <td>1.652423</td>\n",
       "      <td>1.695370</td>\n",
       "      <td>528.833838</td>\n",
       "      <td>156.994628</td>\n",
       "      <td>7463.866724</td>\n",
       "    </tr>\n",
       "    <tr>\n",
       "      <th>std</th>\n",
       "      <td>0.964029</td>\n",
       "      <td>6.796212e+05</td>\n",
       "      <td>6.882570</td>\n",
       "      <td>0.966366</td>\n",
       "      <td>0.724991</td>\n",
       "      <td>0.975529</td>\n",
       "      <td>1212.965090</td>\n",
       "      <td>480.976260</td>\n",
       "      <td>4369.422310</td>\n",
       "    </tr>\n",
       "    <tr>\n",
       "      <th>min</th>\n",
       "      <td>1.000000</td>\n",
       "      <td>1.310000e+05</td>\n",
       "      <td>0.000000</td>\n",
       "      <td>0.000000</td>\n",
       "      <td>1.000000</td>\n",
       "      <td>0.000000</td>\n",
       "      <td>0.000000</td>\n",
       "      <td>0.000000</td>\n",
       "      <td>249.000000</td>\n",
       "    </tr>\n",
       "    <tr>\n",
       "      <th>25%</th>\n",
       "      <td>2.000000</td>\n",
       "      <td>6.410000e+05</td>\n",
       "      <td>6.400000</td>\n",
       "      <td>2.000000</td>\n",
       "      <td>1.000000</td>\n",
       "      <td>1.000000</td>\n",
       "      <td>210.000000</td>\n",
       "      <td>100.000000</td>\n",
       "      <td>4380.000000</td>\n",
       "    </tr>\n",
       "    <tr>\n",
       "      <th>50%</th>\n",
       "      <td>3.000000</td>\n",
       "      <td>9.000000e+05</td>\n",
       "      <td>10.300000</td>\n",
       "      <td>3.000000</td>\n",
       "      <td>2.000000</td>\n",
       "      <td>2.000000</td>\n",
       "      <td>474.000000</td>\n",
       "      <td>132.000000</td>\n",
       "      <td>6543.000000</td>\n",
       "    </tr>\n",
       "    <tr>\n",
       "      <th>75%</th>\n",
       "      <td>4.000000</td>\n",
       "      <td>1.341250e+06</td>\n",
       "      <td>13.900000</td>\n",
       "      <td>4.000000</td>\n",
       "      <td>2.000000</td>\n",
       "      <td>2.000000</td>\n",
       "      <td>651.000000</td>\n",
       "      <td>181.000000</td>\n",
       "      <td>10331.000000</td>\n",
       "    </tr>\n",
       "    <tr>\n",
       "      <th>max</th>\n",
       "      <td>12.000000</td>\n",
       "      <td>9.000000e+06</td>\n",
       "      <td>48.100000</td>\n",
       "      <td>12.000000</td>\n",
       "      <td>9.000000</td>\n",
       "      <td>10.000000</td>\n",
       "      <td>44500.000000</td>\n",
       "      <td>44515.000000</td>\n",
       "      <td>21650.000000</td>\n",
       "    </tr>\n",
       "  </tbody>\n",
       "</table>\n",
       "</div>"
      ],
      "text/plain": [
       "             Rooms         Price     Distance     Bedroom2     Bathroom  \\\n",
       "count  9244.000000  9.244000e+03  9244.000000  9244.000000  9244.000000   \n",
       "mean      3.098118  1.092329e+06    11.241151     3.077347     1.652423   \n",
       "std       0.964029  6.796212e+05     6.882570     0.966366     0.724991   \n",
       "min       1.000000  1.310000e+05     0.000000     0.000000     1.000000   \n",
       "25%       2.000000  6.410000e+05     6.400000     2.000000     1.000000   \n",
       "50%       3.000000  9.000000e+05    10.300000     3.000000     2.000000   \n",
       "75%       4.000000  1.341250e+06    13.900000     4.000000     2.000000   \n",
       "max      12.000000  9.000000e+06    48.100000    12.000000     9.000000   \n",
       "\n",
       "               Car      Landsize  BuildingArea  Propertycount  \n",
       "count  9244.000000   9244.000000   9244.000000    9244.000000  \n",
       "mean      1.695370    528.833838    156.994628    7463.866724  \n",
       "std       0.975529   1212.965090    480.976260    4369.422310  \n",
       "min       0.000000      0.000000      0.000000     249.000000  \n",
       "25%       1.000000    210.000000    100.000000    4380.000000  \n",
       "50%       2.000000    474.000000    132.000000    6543.000000  \n",
       "75%       2.000000    651.000000    181.000000   10331.000000  \n",
       "max      10.000000  44500.000000  44515.000000   21650.000000  "
      ]
     },
     "execution_count": 106,
     "metadata": {},
     "output_type": "execute_result"
    }
   ],
   "source": [
    "df.describe()"
   ]
  },
  {
   "cell_type": "code",
   "execution_count": 107,
   "id": "ba780542",
   "metadata": {},
   "outputs": [
    {
     "data": {
      "text/plain": [
       "Suburb            318\n",
       "Rooms              10\n",
       "Type                3\n",
       "Price            1871\n",
       "Method              5\n",
       "SellerG           254\n",
       "Distance          202\n",
       "Bedroom2           12\n",
       "Bathroom            9\n",
       "Car                11\n",
       "Landsize         1252\n",
       "BuildingArea      639\n",
       "CouncilArea        33\n",
       "Regionname          8\n",
       "Propertycount     315\n",
       "dtype: int64"
      ]
     },
     "execution_count": 107,
     "metadata": {},
     "output_type": "execute_result"
    }
   ],
   "source": [
    "df.nunique()"
   ]
  },
  {
   "cell_type": "code",
   "execution_count": 108,
   "id": "0180255d",
   "metadata": {},
   "outputs": [
    {
     "data": {
      "text/html": [
       "<div>\n",
       "<style scoped>\n",
       "    .dataframe tbody tr th:only-of-type {\n",
       "        vertical-align: middle;\n",
       "    }\n",
       "\n",
       "    .dataframe tbody tr th {\n",
       "        vertical-align: top;\n",
       "    }\n",
       "\n",
       "    .dataframe thead th {\n",
       "        text-align: right;\n",
       "    }\n",
       "</style>\n",
       "<table border=\"1\" class=\"dataframe\">\n",
       "  <thead>\n",
       "    <tr style=\"text-align: right;\">\n",
       "      <th></th>\n",
       "      <th>Suburb</th>\n",
       "      <th>Rooms</th>\n",
       "      <th>Type</th>\n",
       "      <th>Method</th>\n",
       "      <th>SellerG</th>\n",
       "      <th>Regionname</th>\n",
       "      <th>Propertycount</th>\n",
       "      <th>Distance</th>\n",
       "      <th>CouncilArea</th>\n",
       "      <th>Bedroom2</th>\n",
       "      <th>Bathroom</th>\n",
       "      <th>Car</th>\n",
       "      <th>Landsize</th>\n",
       "      <th>BuildingArea</th>\n",
       "      <th>Price</th>\n",
       "    </tr>\n",
       "  </thead>\n",
       "  <tbody>\n",
       "    <tr>\n",
       "      <th>2</th>\n",
       "      <td>Abbotsford</td>\n",
       "      <td>2</td>\n",
       "      <td>h</td>\n",
       "      <td>S</td>\n",
       "      <td>Biggin</td>\n",
       "      <td>Northern Metropolitan</td>\n",
       "      <td>4019.0</td>\n",
       "      <td>2.5</td>\n",
       "      <td>Yarra City Council</td>\n",
       "      <td>2.0</td>\n",
       "      <td>1.0</td>\n",
       "      <td>0.0</td>\n",
       "      <td>156.0</td>\n",
       "      <td>79.0</td>\n",
       "      <td>1035000.0</td>\n",
       "    </tr>\n",
       "    <tr>\n",
       "      <th>4</th>\n",
       "      <td>Abbotsford</td>\n",
       "      <td>3</td>\n",
       "      <td>h</td>\n",
       "      <td>SP</td>\n",
       "      <td>Biggin</td>\n",
       "      <td>Northern Metropolitan</td>\n",
       "      <td>4019.0</td>\n",
       "      <td>2.5</td>\n",
       "      <td>Yarra City Council</td>\n",
       "      <td>3.0</td>\n",
       "      <td>2.0</td>\n",
       "      <td>0.0</td>\n",
       "      <td>134.0</td>\n",
       "      <td>150.0</td>\n",
       "      <td>1465000.0</td>\n",
       "    </tr>\n",
       "    <tr>\n",
       "      <th>6</th>\n",
       "      <td>Abbotsford</td>\n",
       "      <td>4</td>\n",
       "      <td>h</td>\n",
       "      <td>VB</td>\n",
       "      <td>Nelson</td>\n",
       "      <td>Northern Metropolitan</td>\n",
       "      <td>4019.0</td>\n",
       "      <td>2.5</td>\n",
       "      <td>Yarra City Council</td>\n",
       "      <td>3.0</td>\n",
       "      <td>1.0</td>\n",
       "      <td>2.0</td>\n",
       "      <td>120.0</td>\n",
       "      <td>142.0</td>\n",
       "      <td>1600000.0</td>\n",
       "    </tr>\n",
       "    <tr>\n",
       "      <th>11</th>\n",
       "      <td>Abbotsford</td>\n",
       "      <td>3</td>\n",
       "      <td>h</td>\n",
       "      <td>S</td>\n",
       "      <td>Nelson</td>\n",
       "      <td>Northern Metropolitan</td>\n",
       "      <td>4019.0</td>\n",
       "      <td>2.5</td>\n",
       "      <td>Yarra City Council</td>\n",
       "      <td>4.0</td>\n",
       "      <td>2.0</td>\n",
       "      <td>0.0</td>\n",
       "      <td>245.0</td>\n",
       "      <td>210.0</td>\n",
       "      <td>1876000.0</td>\n",
       "    </tr>\n",
       "    <tr>\n",
       "      <th>14</th>\n",
       "      <td>Abbotsford</td>\n",
       "      <td>2</td>\n",
       "      <td>h</td>\n",
       "      <td>S</td>\n",
       "      <td>Nelson</td>\n",
       "      <td>Northern Metropolitan</td>\n",
       "      <td>4019.0</td>\n",
       "      <td>2.5</td>\n",
       "      <td>Yarra City Council</td>\n",
       "      <td>2.0</td>\n",
       "      <td>1.0</td>\n",
       "      <td>2.0</td>\n",
       "      <td>256.0</td>\n",
       "      <td>107.0</td>\n",
       "      <td>1636000.0</td>\n",
       "    </tr>\n",
       "    <tr>\n",
       "      <th>...</th>\n",
       "      <td>...</td>\n",
       "      <td>...</td>\n",
       "      <td>...</td>\n",
       "      <td>...</td>\n",
       "      <td>...</td>\n",
       "      <td>...</td>\n",
       "      <td>...</td>\n",
       "      <td>...</td>\n",
       "      <td>...</td>\n",
       "      <td>...</td>\n",
       "      <td>...</td>\n",
       "      <td>...</td>\n",
       "      <td>...</td>\n",
       "      <td>...</td>\n",
       "      <td>...</td>\n",
       "    </tr>\n",
       "    <tr>\n",
       "      <th>34847</th>\n",
       "      <td>Wollert</td>\n",
       "      <td>3</td>\n",
       "      <td>h</td>\n",
       "      <td>PI</td>\n",
       "      <td>Ray</td>\n",
       "      <td>Northern Metropolitan</td>\n",
       "      <td>2940.0</td>\n",
       "      <td>25.5</td>\n",
       "      <td>Whittlesea City Council</td>\n",
       "      <td>3.0</td>\n",
       "      <td>2.0</td>\n",
       "      <td>2.0</td>\n",
       "      <td>383.0</td>\n",
       "      <td>118.0</td>\n",
       "      <td>500000.0</td>\n",
       "    </tr>\n",
       "    <tr>\n",
       "      <th>34849</th>\n",
       "      <td>Wollert</td>\n",
       "      <td>3</td>\n",
       "      <td>h</td>\n",
       "      <td>SP</td>\n",
       "      <td>RW</td>\n",
       "      <td>Northern Metropolitan</td>\n",
       "      <td>2940.0</td>\n",
       "      <td>25.5</td>\n",
       "      <td>Whittlesea City Council</td>\n",
       "      <td>3.0</td>\n",
       "      <td>2.0</td>\n",
       "      <td>2.0</td>\n",
       "      <td>404.0</td>\n",
       "      <td>158.0</td>\n",
       "      <td>570000.0</td>\n",
       "    </tr>\n",
       "    <tr>\n",
       "      <th>34853</th>\n",
       "      <td>Yarraville</td>\n",
       "      <td>2</td>\n",
       "      <td>h</td>\n",
       "      <td>SP</td>\n",
       "      <td>Sweeney</td>\n",
       "      <td>Western Metropolitan</td>\n",
       "      <td>6543.0</td>\n",
       "      <td>6.3</td>\n",
       "      <td>Maribyrnong City Council</td>\n",
       "      <td>2.0</td>\n",
       "      <td>2.0</td>\n",
       "      <td>1.0</td>\n",
       "      <td>98.0</td>\n",
       "      <td>104.0</td>\n",
       "      <td>888000.0</td>\n",
       "    </tr>\n",
       "    <tr>\n",
       "      <th>34854</th>\n",
       "      <td>Yarraville</td>\n",
       "      <td>2</td>\n",
       "      <td>t</td>\n",
       "      <td>S</td>\n",
       "      <td>Jas</td>\n",
       "      <td>Western Metropolitan</td>\n",
       "      <td>6543.0</td>\n",
       "      <td>6.3</td>\n",
       "      <td>Maribyrnong City Council</td>\n",
       "      <td>2.0</td>\n",
       "      <td>1.0</td>\n",
       "      <td>2.0</td>\n",
       "      <td>220.0</td>\n",
       "      <td>120.0</td>\n",
       "      <td>705000.0</td>\n",
       "    </tr>\n",
       "    <tr>\n",
       "      <th>34856</th>\n",
       "      <td>Yarraville</td>\n",
       "      <td>2</td>\n",
       "      <td>h</td>\n",
       "      <td>PI</td>\n",
       "      <td>RW</td>\n",
       "      <td>Western Metropolitan</td>\n",
       "      <td>6543.0</td>\n",
       "      <td>6.3</td>\n",
       "      <td>Maribyrnong City Council</td>\n",
       "      <td>2.0</td>\n",
       "      <td>1.0</td>\n",
       "      <td>0.0</td>\n",
       "      <td>250.0</td>\n",
       "      <td>103.0</td>\n",
       "      <td>1020000.0</td>\n",
       "    </tr>\n",
       "  </tbody>\n",
       "</table>\n",
       "<p>9244 rows × 15 columns</p>\n",
       "</div>"
      ],
      "text/plain": [
       "           Suburb  Rooms Type Method  SellerG             Regionname  \\\n",
       "2      Abbotsford      2    h      S   Biggin  Northern Metropolitan   \n",
       "4      Abbotsford      3    h     SP   Biggin  Northern Metropolitan   \n",
       "6      Abbotsford      4    h     VB   Nelson  Northern Metropolitan   \n",
       "11     Abbotsford      3    h      S   Nelson  Northern Metropolitan   \n",
       "14     Abbotsford      2    h      S   Nelson  Northern Metropolitan   \n",
       "...           ...    ...  ...    ...      ...                    ...   \n",
       "34847     Wollert      3    h     PI      Ray  Northern Metropolitan   \n",
       "34849     Wollert      3    h     SP       RW  Northern Metropolitan   \n",
       "34853  Yarraville      2    h     SP  Sweeney   Western Metropolitan   \n",
       "34854  Yarraville      2    t      S      Jas   Western Metropolitan   \n",
       "34856  Yarraville      2    h     PI       RW   Western Metropolitan   \n",
       "\n",
       "       Propertycount  Distance               CouncilArea  Bedroom2  Bathroom  \\\n",
       "2             4019.0       2.5        Yarra City Council       2.0       1.0   \n",
       "4             4019.0       2.5        Yarra City Council       3.0       2.0   \n",
       "6             4019.0       2.5        Yarra City Council       3.0       1.0   \n",
       "11            4019.0       2.5        Yarra City Council       4.0       2.0   \n",
       "14            4019.0       2.5        Yarra City Council       2.0       1.0   \n",
       "...              ...       ...                       ...       ...       ...   \n",
       "34847         2940.0      25.5   Whittlesea City Council       3.0       2.0   \n",
       "34849         2940.0      25.5   Whittlesea City Council       3.0       2.0   \n",
       "34853         6543.0       6.3  Maribyrnong City Council       2.0       2.0   \n",
       "34854         6543.0       6.3  Maribyrnong City Council       2.0       1.0   \n",
       "34856         6543.0       6.3  Maribyrnong City Council       2.0       1.0   \n",
       "\n",
       "       Car  Landsize  BuildingArea      Price  \n",
       "2      0.0     156.0          79.0  1035000.0  \n",
       "4      0.0     134.0         150.0  1465000.0  \n",
       "6      2.0     120.0         142.0  1600000.0  \n",
       "11     0.0     245.0         210.0  1876000.0  \n",
       "14     2.0     256.0         107.0  1636000.0  \n",
       "...    ...       ...           ...        ...  \n",
       "34847  2.0     383.0         118.0   500000.0  \n",
       "34849  2.0     404.0         158.0   570000.0  \n",
       "34853  1.0      98.0         104.0   888000.0  \n",
       "34854  2.0     220.0         120.0   705000.0  \n",
       "34856  0.0     250.0         103.0  1020000.0  \n",
       "\n",
       "[9244 rows x 15 columns]"
      ]
     },
     "execution_count": 108,
     "metadata": {},
     "output_type": "execute_result"
    }
   ],
   "source": [
    "col = ['Suburb','Rooms','Type','Method','SellerG','Regionname','Propertycount','Distance','CouncilArea','Bedroom2','Bathroom','Car','Landsize','BuildingArea','Price']\n",
    "df = df[col]\n",
    "df"
   ]
  },
  {
   "cell_type": "code",
   "execution_count": 109,
   "id": "ec52200a",
   "metadata": {},
   "outputs": [
    {
     "name": "stdout",
     "output_type": "stream",
     "text": [
      "           Suburb  Rooms Type Method  SellerG             Regionname  \\\n",
      "2      Abbotsford      2    h      S   Biggin  Northern Metropolitan   \n",
      "4      Abbotsford      3    h     SP   Biggin  Northern Metropolitan   \n",
      "6      Abbotsford      4    h     VB   Nelson  Northern Metropolitan   \n",
      "11     Abbotsford      3    h      S   Nelson  Northern Metropolitan   \n",
      "14     Abbotsford      2    h      S   Nelson  Northern Metropolitan   \n",
      "...           ...    ...  ...    ...      ...                    ...   \n",
      "34847     Wollert      3    h     PI      Ray  Northern Metropolitan   \n",
      "34849     Wollert      3    h     SP       RW  Northern Metropolitan   \n",
      "34853  Yarraville      2    h     SP  Sweeney   Western Metropolitan   \n",
      "34854  Yarraville      2    t      S      Jas   Western Metropolitan   \n",
      "34856  Yarraville      2    h     PI       RW   Western Metropolitan   \n",
      "\n",
      "       Propertycount  Distance               CouncilArea  Bedroom2  Bathroom  \\\n",
      "2             4019.0       2.5        Yarra City Council       2.0       1.0   \n",
      "4             4019.0       2.5        Yarra City Council       3.0       2.0   \n",
      "6             4019.0       2.5        Yarra City Council       3.0       1.0   \n",
      "11            4019.0       2.5        Yarra City Council       4.0       2.0   \n",
      "14            4019.0       2.5        Yarra City Council       2.0       1.0   \n",
      "...              ...       ...                       ...       ...       ...   \n",
      "34847         2940.0      25.5   Whittlesea City Council       3.0       2.0   \n",
      "34849         2940.0      25.5   Whittlesea City Council       3.0       2.0   \n",
      "34853         6543.0       6.3  Maribyrnong City Council       2.0       2.0   \n",
      "34854         6543.0       6.3  Maribyrnong City Council       2.0       1.0   \n",
      "34856         6543.0       6.3  Maribyrnong City Council       2.0       1.0   \n",
      "\n",
      "       Car  Landsize  BuildingArea      Price  \n",
      "2      0.0     156.0          79.0  1035000.0  \n",
      "4      0.0     134.0         150.0  1465000.0  \n",
      "6      2.0     120.0         142.0  1600000.0  \n",
      "11     0.0     245.0         210.0  1876000.0  \n",
      "14     2.0     256.0         107.0  1636000.0  \n",
      "...    ...       ...           ...        ...  \n",
      "34847  2.0     383.0         118.0   500000.0  \n",
      "34849  2.0     404.0         158.0   570000.0  \n",
      "34853  1.0      98.0         104.0   888000.0  \n",
      "34854  2.0     220.0         120.0   705000.0  \n",
      "34856  0.0     250.0         103.0  1020000.0  \n",
      "\n",
      "[9244 rows x 15 columns]\n",
      "       Rooms  Propertycount  Distance  Bedroom2  Bathroom  Car  Landsize  \\\n",
      "2          2         4019.0       2.5       2.0       1.0  0.0     156.0   \n",
      "4          3         4019.0       2.5       3.0       2.0  0.0     134.0   \n",
      "6          4         4019.0       2.5       3.0       1.0  2.0     120.0   \n",
      "11         3         4019.0       2.5       4.0       2.0  0.0     245.0   \n",
      "14         2         4019.0       2.5       2.0       1.0  2.0     256.0   \n",
      "...      ...            ...       ...       ...       ...  ...       ...   \n",
      "34847      3         2940.0      25.5       3.0       2.0  2.0     383.0   \n",
      "34849      3         2940.0      25.5       3.0       2.0  2.0     404.0   \n",
      "34853      2         6543.0       6.3       2.0       2.0  1.0      98.0   \n",
      "34854      2         6543.0       6.3       2.0       1.0  2.0     220.0   \n",
      "34856      2         6543.0       6.3       2.0       1.0  0.0     250.0   \n",
      "\n",
      "       BuildingArea      Price  Suburb_Abbotsford  ...  \\\n",
      "2              79.0  1035000.0                  1  ...   \n",
      "4             150.0  1465000.0                  1  ...   \n",
      "6             142.0  1600000.0                  1  ...   \n",
      "11            210.0  1876000.0                  1  ...   \n",
      "14            107.0  1636000.0                  1  ...   \n",
      "...             ...        ...                ...  ...   \n",
      "34847         118.0   500000.0                  0  ...   \n",
      "34849         158.0   570000.0                  0  ...   \n",
      "34853         104.0   888000.0                  0  ...   \n",
      "34854         120.0   705000.0                  0  ...   \n",
      "34856         103.0  1020000.0                  0  ...   \n",
      "\n",
      "       CouncilArea_Moorabool Shire Council  CouncilArea_Moreland City Council  \\\n",
      "2                                        0                                  0   \n",
      "4                                        0                                  0   \n",
      "6                                        0                                  0   \n",
      "11                                       0                                  0   \n",
      "14                                       0                                  0   \n",
      "...                                    ...                                ...   \n",
      "34847                                    0                                  0   \n",
      "34849                                    0                                  0   \n",
      "34853                                    0                                  0   \n",
      "34854                                    0                                  0   \n",
      "34856                                    0                                  0   \n",
      "\n",
      "       CouncilArea_Nillumbik Shire Council  \\\n",
      "2                                        0   \n",
      "4                                        0   \n",
      "6                                        0   \n",
      "11                                       0   \n",
      "14                                       0   \n",
      "...                                    ...   \n",
      "34847                                    0   \n",
      "34849                                    0   \n",
      "34853                                    0   \n",
      "34854                                    0   \n",
      "34856                                    0   \n",
      "\n",
      "       CouncilArea_Port Phillip City Council  \\\n",
      "2                                          0   \n",
      "4                                          0   \n",
      "6                                          0   \n",
      "11                                         0   \n",
      "14                                         0   \n",
      "...                                      ...   \n",
      "34847                                      0   \n",
      "34849                                      0   \n",
      "34853                                      0   \n",
      "34854                                      0   \n",
      "34856                                      0   \n",
      "\n",
      "       CouncilArea_Stonnington City Council  \\\n",
      "2                                         0   \n",
      "4                                         0   \n",
      "6                                         0   \n",
      "11                                        0   \n",
      "14                                        0   \n",
      "...                                     ...   \n",
      "34847                                     0   \n",
      "34849                                     0   \n",
      "34853                                     0   \n",
      "34854                                     0   \n",
      "34856                                     0   \n",
      "\n",
      "       CouncilArea_Whitehorse City Council  \\\n",
      "2                                        0   \n",
      "4                                        0   \n",
      "6                                        0   \n",
      "11                                       0   \n",
      "14                                       0   \n",
      "...                                    ...   \n",
      "34847                                    0   \n",
      "34849                                    0   \n",
      "34853                                    0   \n",
      "34854                                    0   \n",
      "34856                                    0   \n",
      "\n",
      "       CouncilArea_Whittlesea City Council  CouncilArea_Wyndham City Council  \\\n",
      "2                                        0                                 0   \n",
      "4                                        0                                 0   \n",
      "6                                        0                                 0   \n",
      "11                                       0                                 0   \n",
      "14                                       0                                 0   \n",
      "...                                    ...                               ...   \n",
      "34847                                    1                                 0   \n",
      "34849                                    1                                 0   \n",
      "34853                                    0                                 0   \n",
      "34854                                    0                                 0   \n",
      "34856                                    0                                 0   \n",
      "\n",
      "       CouncilArea_Yarra City Council  CouncilArea_Yarra Ranges Shire Council  \n",
      "2                                   1                                       0  \n",
      "4                                   1                                       0  \n",
      "6                                   1                                       0  \n",
      "11                                  1                                       0  \n",
      "14                                  1                                       0  \n",
      "...                               ...                                     ...  \n",
      "34847                               0                                       0  \n",
      "34849                               0                                       0  \n",
      "34853                               0                                       0  \n",
      "34854                               0                                       0  \n",
      "34856                               0                                       0  \n",
      "\n",
      "[9244 rows x 630 columns]\n"
     ]
    }
   ],
   "source": [
    "df.dropna(inplace=True)\n",
    "print(df)\n",
    "df = pd.get_dummies(df,dtype=int)\n",
    "print(df)"
   ]
  },
  {
   "cell_type": "code",
   "execution_count": 110,
   "id": "3e33a119",
   "metadata": {},
   "outputs": [
    {
     "data": {
      "text/plain": [
       "2        1035000.0\n",
       "4        1465000.0\n",
       "6        1600000.0\n",
       "11       1876000.0\n",
       "14       1636000.0\n",
       "           ...    \n",
       "34847     500000.0\n",
       "34849     570000.0\n",
       "34853     888000.0\n",
       "34854     705000.0\n",
       "34856    1020000.0\n",
       "Name: Price, Length: 9244, dtype: float64"
      ]
     },
     "execution_count": 110,
     "metadata": {},
     "output_type": "execute_result"
    }
   ],
   "source": [
    "X = df.drop(columns =['Price'])\n",
    "Y = df['Price']\n",
    "X\n",
    "Y"
   ]
  },
  {
   "cell_type": "code",
   "execution_count": 111,
   "id": "c8eb9cc2",
   "metadata": {},
   "outputs": [
    {
     "data": {
      "text/html": [
       "<style>#sk-container-id-2 {color: black;}#sk-container-id-2 pre{padding: 0;}#sk-container-id-2 div.sk-toggleable {background-color: white;}#sk-container-id-2 label.sk-toggleable__label {cursor: pointer;display: block;width: 100%;margin-bottom: 0;padding: 0.3em;box-sizing: border-box;text-align: center;}#sk-container-id-2 label.sk-toggleable__label-arrow:before {content: \"▸\";float: left;margin-right: 0.25em;color: #696969;}#sk-container-id-2 label.sk-toggleable__label-arrow:hover:before {color: black;}#sk-container-id-2 div.sk-estimator:hover label.sk-toggleable__label-arrow:before {color: black;}#sk-container-id-2 div.sk-toggleable__content {max-height: 0;max-width: 0;overflow: hidden;text-align: left;background-color: #f0f8ff;}#sk-container-id-2 div.sk-toggleable__content pre {margin: 0.2em;color: black;border-radius: 0.25em;background-color: #f0f8ff;}#sk-container-id-2 input.sk-toggleable__control:checked~div.sk-toggleable__content {max-height: 200px;max-width: 100%;overflow: auto;}#sk-container-id-2 input.sk-toggleable__control:checked~label.sk-toggleable__label-arrow:before {content: \"▾\";}#sk-container-id-2 div.sk-estimator input.sk-toggleable__control:checked~label.sk-toggleable__label {background-color: #d4ebff;}#sk-container-id-2 div.sk-label input.sk-toggleable__control:checked~label.sk-toggleable__label {background-color: #d4ebff;}#sk-container-id-2 input.sk-hidden--visually {border: 0;clip: rect(1px 1px 1px 1px);clip: rect(1px, 1px, 1px, 1px);height: 1px;margin: -1px;overflow: hidden;padding: 0;position: absolute;width: 1px;}#sk-container-id-2 div.sk-estimator {font-family: monospace;background-color: #f0f8ff;border: 1px dotted black;border-radius: 0.25em;box-sizing: border-box;margin-bottom: 0.5em;}#sk-container-id-2 div.sk-estimator:hover {background-color: #d4ebff;}#sk-container-id-2 div.sk-parallel-item::after {content: \"\";width: 100%;border-bottom: 1px solid gray;flex-grow: 1;}#sk-container-id-2 div.sk-label:hover label.sk-toggleable__label {background-color: #d4ebff;}#sk-container-id-2 div.sk-serial::before {content: \"\";position: absolute;border-left: 1px solid gray;box-sizing: border-box;top: 0;bottom: 0;left: 50%;z-index: 0;}#sk-container-id-2 div.sk-serial {display: flex;flex-direction: column;align-items: center;background-color: white;padding-right: 0.2em;padding-left: 0.2em;position: relative;}#sk-container-id-2 div.sk-item {position: relative;z-index: 1;}#sk-container-id-2 div.sk-parallel {display: flex;align-items: stretch;justify-content: center;background-color: white;position: relative;}#sk-container-id-2 div.sk-item::before, #sk-container-id-2 div.sk-parallel-item::before {content: \"\";position: absolute;border-left: 1px solid gray;box-sizing: border-box;top: 0;bottom: 0;left: 50%;z-index: -1;}#sk-container-id-2 div.sk-parallel-item {display: flex;flex-direction: column;z-index: 1;position: relative;background-color: white;}#sk-container-id-2 div.sk-parallel-item:first-child::after {align-self: flex-end;width: 50%;}#sk-container-id-2 div.sk-parallel-item:last-child::after {align-self: flex-start;width: 50%;}#sk-container-id-2 div.sk-parallel-item:only-child::after {width: 0;}#sk-container-id-2 div.sk-dashed-wrapped {border: 1px dashed gray;margin: 0 0.4em 0.5em 0.4em;box-sizing: border-box;padding-bottom: 0.4em;background-color: white;}#sk-container-id-2 div.sk-label label {font-family: monospace;font-weight: bold;display: inline-block;line-height: 1.2em;}#sk-container-id-2 div.sk-label-container {text-align: center;}#sk-container-id-2 div.sk-container {/* jupyter's `normalize.less` sets `[hidden] { display: none; }` but bootstrap.min.css set `[hidden] { display: none !important; }` so we also need the `!important` here to be able to override the default hidden behavior on the sphinx rendered scikit-learn.org. See: https://github.com/scikit-learn/scikit-learn/issues/21755 */display: inline-block !important;position: relative;}#sk-container-id-2 div.sk-text-repr-fallback {display: none;}</style><div id=\"sk-container-id-2\" class=\"sk-top-container\"><div class=\"sk-text-repr-fallback\"><pre>LinearRegression()</pre><b>In a Jupyter environment, please rerun this cell to show the HTML representation or trust the notebook. <br />On GitHub, the HTML representation is unable to render, please try loading this page with nbviewer.org.</b></div><div class=\"sk-container\" hidden><div class=\"sk-item\"><div class=\"sk-estimator sk-toggleable\"><input class=\"sk-toggleable__control sk-hidden--visually\" id=\"sk-estimator-id-2\" type=\"checkbox\" checked><label for=\"sk-estimator-id-2\" class=\"sk-toggleable__label sk-toggleable__label-arrow\">LinearRegression</label><div class=\"sk-toggleable__content\"><pre>LinearRegression()</pre></div></div></div></div></div>"
      ],
      "text/plain": [
       "LinearRegression()"
      ]
     },
     "execution_count": 111,
     "metadata": {},
     "output_type": "execute_result"
    }
   ],
   "source": [
    "X_train,X_test,Y_train,Y_test = train_test_split(X,Y,test_size=0.3)\n",
    "model = LinearRegression()\n",
    "model.fit(X_train,Y_train)"
   ]
  },
  {
   "cell_type": "code",
   "execution_count": 122,
   "id": "3086d4aa",
   "metadata": {},
   "outputs": [
    {
     "data": {
      "text/plain": [
       "0.7456528277598128"
      ]
     },
     "execution_count": 122,
     "metadata": {},
     "output_type": "execute_result"
    }
   ],
   "source": [
    "model.score(X_train,Y_train)"
   ]
  },
  {
   "cell_type": "code",
   "execution_count": 123,
   "id": "914c3eaf",
   "metadata": {},
   "outputs": [
    {
     "data": {
      "text/plain": [
       "0.38065569466852534"
      ]
     },
     "execution_count": 123,
     "metadata": {},
     "output_type": "execute_result"
    }
   ],
   "source": [
    "model.score(X_test,Y_test)"
   ]
  },
  {
   "cell_type": "code",
   "execution_count": 128,
   "id": "9e854ba0",
   "metadata": {},
   "outputs": [
    {
     "data": {
      "text/html": [
       "<style>#sk-container-id-5 {color: black;}#sk-container-id-5 pre{padding: 0;}#sk-container-id-5 div.sk-toggleable {background-color: white;}#sk-container-id-5 label.sk-toggleable__label {cursor: pointer;display: block;width: 100%;margin-bottom: 0;padding: 0.3em;box-sizing: border-box;text-align: center;}#sk-container-id-5 label.sk-toggleable__label-arrow:before {content: \"▸\";float: left;margin-right: 0.25em;color: #696969;}#sk-container-id-5 label.sk-toggleable__label-arrow:hover:before {color: black;}#sk-container-id-5 div.sk-estimator:hover label.sk-toggleable__label-arrow:before {color: black;}#sk-container-id-5 div.sk-toggleable__content {max-height: 0;max-width: 0;overflow: hidden;text-align: left;background-color: #f0f8ff;}#sk-container-id-5 div.sk-toggleable__content pre {margin: 0.2em;color: black;border-radius: 0.25em;background-color: #f0f8ff;}#sk-container-id-5 input.sk-toggleable__control:checked~div.sk-toggleable__content {max-height: 200px;max-width: 100%;overflow: auto;}#sk-container-id-5 input.sk-toggleable__control:checked~label.sk-toggleable__label-arrow:before {content: \"▾\";}#sk-container-id-5 div.sk-estimator input.sk-toggleable__control:checked~label.sk-toggleable__label {background-color: #d4ebff;}#sk-container-id-5 div.sk-label input.sk-toggleable__control:checked~label.sk-toggleable__label {background-color: #d4ebff;}#sk-container-id-5 input.sk-hidden--visually {border: 0;clip: rect(1px 1px 1px 1px);clip: rect(1px, 1px, 1px, 1px);height: 1px;margin: -1px;overflow: hidden;padding: 0;position: absolute;width: 1px;}#sk-container-id-5 div.sk-estimator {font-family: monospace;background-color: #f0f8ff;border: 1px dotted black;border-radius: 0.25em;box-sizing: border-box;margin-bottom: 0.5em;}#sk-container-id-5 div.sk-estimator:hover {background-color: #d4ebff;}#sk-container-id-5 div.sk-parallel-item::after {content: \"\";width: 100%;border-bottom: 1px solid gray;flex-grow: 1;}#sk-container-id-5 div.sk-label:hover label.sk-toggleable__label {background-color: #d4ebff;}#sk-container-id-5 div.sk-serial::before {content: \"\";position: absolute;border-left: 1px solid gray;box-sizing: border-box;top: 0;bottom: 0;left: 50%;z-index: 0;}#sk-container-id-5 div.sk-serial {display: flex;flex-direction: column;align-items: center;background-color: white;padding-right: 0.2em;padding-left: 0.2em;position: relative;}#sk-container-id-5 div.sk-item {position: relative;z-index: 1;}#sk-container-id-5 div.sk-parallel {display: flex;align-items: stretch;justify-content: center;background-color: white;position: relative;}#sk-container-id-5 div.sk-item::before, #sk-container-id-5 div.sk-parallel-item::before {content: \"\";position: absolute;border-left: 1px solid gray;box-sizing: border-box;top: 0;bottom: 0;left: 50%;z-index: -1;}#sk-container-id-5 div.sk-parallel-item {display: flex;flex-direction: column;z-index: 1;position: relative;background-color: white;}#sk-container-id-5 div.sk-parallel-item:first-child::after {align-self: flex-end;width: 50%;}#sk-container-id-5 div.sk-parallel-item:last-child::after {align-self: flex-start;width: 50%;}#sk-container-id-5 div.sk-parallel-item:only-child::after {width: 0;}#sk-container-id-5 div.sk-dashed-wrapped {border: 1px dashed gray;margin: 0 0.4em 0.5em 0.4em;box-sizing: border-box;padding-bottom: 0.4em;background-color: white;}#sk-container-id-5 div.sk-label label {font-family: monospace;font-weight: bold;display: inline-block;line-height: 1.2em;}#sk-container-id-5 div.sk-label-container {text-align: center;}#sk-container-id-5 div.sk-container {/* jupyter's `normalize.less` sets `[hidden] { display: none; }` but bootstrap.min.css set `[hidden] { display: none !important; }` so we also need the `!important` here to be able to override the default hidden behavior on the sphinx rendered scikit-learn.org. See: https://github.com/scikit-learn/scikit-learn/issues/21755 */display: inline-block !important;position: relative;}#sk-container-id-5 div.sk-text-repr-fallback {display: none;}</style><div id=\"sk-container-id-5\" class=\"sk-top-container\"><div class=\"sk-text-repr-fallback\"><pre>Lasso(alpha=25, max_iter=1, tol=0.2)</pre><b>In a Jupyter environment, please rerun this cell to show the HTML representation or trust the notebook. <br />On GitHub, the HTML representation is unable to render, please try loading this page with nbviewer.org.</b></div><div class=\"sk-container\" hidden><div class=\"sk-item\"><div class=\"sk-estimator sk-toggleable\"><input class=\"sk-toggleable__control sk-hidden--visually\" id=\"sk-estimator-id-5\" type=\"checkbox\" checked><label for=\"sk-estimator-id-5\" class=\"sk-toggleable__label sk-toggleable__label-arrow\">Lasso</label><div class=\"sk-toggleable__content\"><pre>Lasso(alpha=25, max_iter=1, tol=0.2)</pre></div></div></div></div></div>"
      ],
      "text/plain": [
       "Lasso(alpha=25, max_iter=1, tol=0.2)"
      ]
     },
     "execution_count": 128,
     "metadata": {},
     "output_type": "execute_result"
    }
   ],
   "source": [
    "model1 = Lasso(alpha=25,max_iter=1,tol=.2)\n",
    "model1.fit(X_train,Y_train)"
   ]
  },
  {
   "cell_type": "code",
   "execution_count": 129,
   "id": "f5fb8037",
   "metadata": {},
   "outputs": [
    {
     "data": {
      "text/plain": [
       "0.6833152017187792"
      ]
     },
     "execution_count": 129,
     "metadata": {},
     "output_type": "execute_result"
    }
   ],
   "source": [
    "model1.score(X_train,Y_train)"
   ]
  },
  {
   "cell_type": "code",
   "execution_count": 130,
   "id": "693ddc9d",
   "metadata": {},
   "outputs": [
    {
     "data": {
      "text/plain": [
       "0.3106416162219777"
      ]
     },
     "execution_count": 130,
     "metadata": {},
     "output_type": "execute_result"
    }
   ],
   "source": [
    "model1.score(X_test,Y_test)"
   ]
  },
  {
   "cell_type": "code",
   "execution_count": 131,
   "id": "60140f67",
   "metadata": {},
   "outputs": [
    {
     "data": {
      "text/html": [
       "<style>#sk-container-id-6 {color: black;}#sk-container-id-6 pre{padding: 0;}#sk-container-id-6 div.sk-toggleable {background-color: white;}#sk-container-id-6 label.sk-toggleable__label {cursor: pointer;display: block;width: 100%;margin-bottom: 0;padding: 0.3em;box-sizing: border-box;text-align: center;}#sk-container-id-6 label.sk-toggleable__label-arrow:before {content: \"▸\";float: left;margin-right: 0.25em;color: #696969;}#sk-container-id-6 label.sk-toggleable__label-arrow:hover:before {color: black;}#sk-container-id-6 div.sk-estimator:hover label.sk-toggleable__label-arrow:before {color: black;}#sk-container-id-6 div.sk-toggleable__content {max-height: 0;max-width: 0;overflow: hidden;text-align: left;background-color: #f0f8ff;}#sk-container-id-6 div.sk-toggleable__content pre {margin: 0.2em;color: black;border-radius: 0.25em;background-color: #f0f8ff;}#sk-container-id-6 input.sk-toggleable__control:checked~div.sk-toggleable__content {max-height: 200px;max-width: 100%;overflow: auto;}#sk-container-id-6 input.sk-toggleable__control:checked~label.sk-toggleable__label-arrow:before {content: \"▾\";}#sk-container-id-6 div.sk-estimator input.sk-toggleable__control:checked~label.sk-toggleable__label {background-color: #d4ebff;}#sk-container-id-6 div.sk-label input.sk-toggleable__control:checked~label.sk-toggleable__label {background-color: #d4ebff;}#sk-container-id-6 input.sk-hidden--visually {border: 0;clip: rect(1px 1px 1px 1px);clip: rect(1px, 1px, 1px, 1px);height: 1px;margin: -1px;overflow: hidden;padding: 0;position: absolute;width: 1px;}#sk-container-id-6 div.sk-estimator {font-family: monospace;background-color: #f0f8ff;border: 1px dotted black;border-radius: 0.25em;box-sizing: border-box;margin-bottom: 0.5em;}#sk-container-id-6 div.sk-estimator:hover {background-color: #d4ebff;}#sk-container-id-6 div.sk-parallel-item::after {content: \"\";width: 100%;border-bottom: 1px solid gray;flex-grow: 1;}#sk-container-id-6 div.sk-label:hover label.sk-toggleable__label {background-color: #d4ebff;}#sk-container-id-6 div.sk-serial::before {content: \"\";position: absolute;border-left: 1px solid gray;box-sizing: border-box;top: 0;bottom: 0;left: 50%;z-index: 0;}#sk-container-id-6 div.sk-serial {display: flex;flex-direction: column;align-items: center;background-color: white;padding-right: 0.2em;padding-left: 0.2em;position: relative;}#sk-container-id-6 div.sk-item {position: relative;z-index: 1;}#sk-container-id-6 div.sk-parallel {display: flex;align-items: stretch;justify-content: center;background-color: white;position: relative;}#sk-container-id-6 div.sk-item::before, #sk-container-id-6 div.sk-parallel-item::before {content: \"\";position: absolute;border-left: 1px solid gray;box-sizing: border-box;top: 0;bottom: 0;left: 50%;z-index: -1;}#sk-container-id-6 div.sk-parallel-item {display: flex;flex-direction: column;z-index: 1;position: relative;background-color: white;}#sk-container-id-6 div.sk-parallel-item:first-child::after {align-self: flex-end;width: 50%;}#sk-container-id-6 div.sk-parallel-item:last-child::after {align-self: flex-start;width: 50%;}#sk-container-id-6 div.sk-parallel-item:only-child::after {width: 0;}#sk-container-id-6 div.sk-dashed-wrapped {border: 1px dashed gray;margin: 0 0.4em 0.5em 0.4em;box-sizing: border-box;padding-bottom: 0.4em;background-color: white;}#sk-container-id-6 div.sk-label label {font-family: monospace;font-weight: bold;display: inline-block;line-height: 1.2em;}#sk-container-id-6 div.sk-label-container {text-align: center;}#sk-container-id-6 div.sk-container {/* jupyter's `normalize.less` sets `[hidden] { display: none; }` but bootstrap.min.css set `[hidden] { display: none !important; }` so we also need the `!important` here to be able to override the default hidden behavior on the sphinx rendered scikit-learn.org. See: https://github.com/scikit-learn/scikit-learn/issues/21755 */display: inline-block !important;position: relative;}#sk-container-id-6 div.sk-text-repr-fallback {display: none;}</style><div id=\"sk-container-id-6\" class=\"sk-top-container\"><div class=\"sk-text-repr-fallback\"><pre>Ridge(alpha=25, max_iter=1, tol=0.2)</pre><b>In a Jupyter environment, please rerun this cell to show the HTML representation or trust the notebook. <br />On GitHub, the HTML representation is unable to render, please try loading this page with nbviewer.org.</b></div><div class=\"sk-container\" hidden><div class=\"sk-item\"><div class=\"sk-estimator sk-toggleable\"><input class=\"sk-toggleable__control sk-hidden--visually\" id=\"sk-estimator-id-6\" type=\"checkbox\" checked><label for=\"sk-estimator-id-6\" class=\"sk-toggleable__label sk-toggleable__label-arrow\">Ridge</label><div class=\"sk-toggleable__content\"><pre>Ridge(alpha=25, max_iter=1, tol=0.2)</pre></div></div></div></div></div>"
      ],
      "text/plain": [
       "Ridge(alpha=25, max_iter=1, tol=0.2)"
      ]
     },
     "execution_count": 131,
     "metadata": {},
     "output_type": "execute_result"
    }
   ],
   "source": [
    "model2=Ridge(alpha=25,max_iter=1,tol=0.2)\n",
    "model2.fit(X,Y)"
   ]
  },
  {
   "cell_type": "code",
   "execution_count": 132,
   "id": "a8ae8709",
   "metadata": {},
   "outputs": [
    {
     "data": {
      "text/plain": [
       "0.7128288830015193"
      ]
     },
     "execution_count": 132,
     "metadata": {},
     "output_type": "execute_result"
    }
   ],
   "source": [
    "model2.score(X_train,Y_train)"
   ]
  },
  {
   "cell_type": "code",
   "execution_count": 133,
   "id": "2bf05473",
   "metadata": {},
   "outputs": [
    {
     "data": {
      "text/plain": [
       "0.6857619527784398"
      ]
     },
     "execution_count": 133,
     "metadata": {},
     "output_type": "execute_result"
    }
   ],
   "source": [
    "model2.score(X_test,Y_test)"
   ]
  },
  {
   "cell_type": "code",
   "execution_count": null,
   "id": "65a3d2b2",
   "metadata": {},
   "outputs": [],
   "source": []
  }
 ],
 "metadata": {
  "kernelspec": {
   "display_name": "Python 3 (ipykernel)",
   "language": "python",
   "name": "python3"
  },
  "language_info": {
   "codemirror_mode": {
    "name": "ipython",
    "version": 3
   },
   "file_extension": ".py",
   "mimetype": "text/x-python",
   "name": "python",
   "nbconvert_exporter": "python",
   "pygments_lexer": "ipython3",
   "version": "3.11.4"
  }
 },
 "nbformat": 4,
 "nbformat_minor": 5
}
